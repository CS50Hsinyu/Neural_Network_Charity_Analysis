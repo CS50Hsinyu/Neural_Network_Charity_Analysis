{
 "cells": [
  {
   "cell_type": "code",
   "execution_count": null,
   "id": "853d5746",
   "metadata": {},
   "outputs": [],
   "source": [
    "# Determine which values to replace if counts are less than ..?\n",
    "replace_class=list(application_clean_df.INCOME_AMT.index)\n",
    "# Replace in dataframe\n",
    "for cls in replace_class:\n",
    "    if cls==\"50M+\":\n",
    "        application_clean_df.INCOME_AMT = application_clean_df.INCOME_AMT.replace(cls,\"10M+\")\n",
    "    elif cls== \"10M-50M\":\n",
    "        application_clean_df.INCOME_AMT = application_clean_df.INCOME_AMT.replace(cls,\"10M+\")\n",
    "    elif cls== \"5M-10M\":\n",
    "        application_clean_df.INCOME_AMT = application_clean_df.INCOME_AMT.replace(cls,\"1M-10M\")    \n",
    "    elif cls== \"1M-5M\":\n",
    "        application_clean_df.INCOME_AMT = application_clean_df.INCOME_AMT.replace(cls,\"1M-10M\")\n",
    "    else:\n",
    "        application_clean_df.INCOME_AMT = application_clean_df.INCOME_AMT.replace(cls,\"Less than 1M\")\n",
    "    \n",
    "# Check to make sure binning was successful\n",
    "application_drop_df.INCOME_AMT.value_counts()"
   ]
  }
 ],
 "metadata": {
  "kernelspec": {
   "display_name": "mlenv",
   "language": "python",
   "name": "mlenv"
  },
  "language_info": {
   "codemirror_mode": {
    "name": "ipython",
    "version": 3
   },
   "file_extension": ".py",
   "mimetype": "text/x-python",
   "name": "python",
   "nbconvert_exporter": "python",
   "pygments_lexer": "ipython3",
   "version": "3.7.10"
  }
 },
 "nbformat": 4,
 "nbformat_minor": 5
}
